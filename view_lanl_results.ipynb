{
 "cells": [
  {
   "cell_type": "code",
   "execution_count": 9,
   "metadata": {},
   "outputs": [],
   "source": [
    "import torch \n",
    "from test_lanl import test_one_hour, N_NODES, remove_dupe_edges"
   ]
  },
  {
   "cell_type": "code",
   "execution_count": 2,
   "metadata": {},
   "outputs": [],
   "source": [
    "assp = torch.load('data/shortest_paths_10-hop.pt')\n",
    "preds, y = test_one_hour(assp, 42)"
   ]
  },
  {
   "cell_type": "code",
   "execution_count": 11,
   "metadata": {},
   "outputs": [],
   "source": [
    "IN_F = '/mnt/raid1_ssd_4tb/datasets/LANL15/torch_data/'\n",
    "mal = torch.load(IN_F + f'42.pt')\n",
    "mal_ei = mal.edge_index \n",
    "y = mal.y \n",
    "del mal \n",
    "\n",
    "uq = set() \n",
    "enc = lambda x : (x[0] + N_NODES*x[1]).item()\n",
    "uq_ei = []; uq_y = []\n",
    "for i in range(mal_ei.size(1)):\n",
    "    e = mal_ei[:,i]\n",
    "    e_ = enc(e)\n",
    "    if e_ not in uq:\n",
    "        uq_ei.append(e) \n",
    "        uq_y.append(y[i].item())\n",
    "        uq.add(e_)\n",
    "\n",
    "mal_ei_uq = torch.stack(uq_ei).T \n",
    "mal_y = torch.tensor(uq_y)"
   ]
  },
  {
   "cell_type": "code",
   "execution_count": 17,
   "metadata": {},
   "outputs": [
    {
     "name": "stdout",
     "output_type": "stream",
     "text": [
      "tensor([1., 1., 1.])\n",
      "torch.return_types.topk(\n",
      "values=tensor([1.0000, 1.0000, 1.0000, 1.0000, 1.0000, 1.0000, 1.0000, 1.0000, 1.0000,\n",
      "        1.0000, 1.0000, 1.0000, 1.0000, 1.0000, 1.0000, 1.0000, 1.0000, 1.0000,\n",
      "        1.0000, 1.0000, 1.0000, 1.0000, 1.0000, 1.0000, 1.0000, 1.0000, 1.0000,\n",
      "        1.0000, 1.0000, 1.0000, 1.0000, 1.0000, 1.0000, 1.0000, 1.0000, 1.0000,\n",
      "        1.0000, 1.0000, 1.0000, 1.0000, 1.0000, 1.0000, 1.0000, 1.0000, 1.0000,\n",
      "        1.0000, 1.0000, 1.0000, 1.0000, 1.0000, 1.0000, 1.0000, 1.0000, 1.0000,\n",
      "        1.0000, 1.0000, 1.0000, 1.0000, 1.0000, 1.0000, 1.0000, 1.0000, 1.0000,\n",
      "        1.0000, 1.0000, 1.0000, 1.0000, 1.0000, 1.0000, 1.0000, 1.0000, 1.0000,\n",
      "        1.0000, 1.0000, 1.0000, 1.0000, 1.0000, 1.0000, 1.0000, 1.0000, 1.0000,\n",
      "        1.0000, 1.0000, 1.0000, 1.0000, 1.0000, 1.0000, 1.0000, 1.0000, 1.0000,\n",
      "        1.0000, 1.0000, 1.0000, 1.0000, 1.0000, 1.0000, 1.0000, 1.0000, 1.0000,\n",
      "        1.0000]),\n",
      "indices=tensor([58128, 52626, 58290, 15867,  7134, 62718, 54293, 47038, 51435, 62889,\n",
      "        58984, 14717, 52171, 38710, 17530, 20654, 43187, 64629, 61625, 37197,\n",
      "        25316, 73492, 67302, 75943, 61253, 69477, 58676, 50533, 73038, 49064,\n",
      "        46891, 24324, 22153,  8810,  7225,  7062,  1945,    31,    32,    66,\n",
      "           68,   133,     7,    70,    72,   126,    36,    37,   131,   125,\n",
      "          101,     8,    19,     4,    82,    84,   122,    42,    86,    63,\n",
      "           15,    65,   135,    33,   132,    34,   137,    35,   127,    73,\n",
      "          128,    75,   104,    38,   138,    39,     9,    40,   102,    83,\n",
      "           20,    85,   123,    87,   106,    88,    89,   119,    44,    90,\n",
      "           91,    10,    45,    93,   139,   124,   120,   105,    22,    94]))\n"
     ]
    }
   ],
   "source": [
    "n_assp = torch.nn.functional.normalize(assp, dim=1)\n",
    "dists = (n_assp[mal_ei_uq[0]] * n_assp[mal_ei_uq[1]]).sum(dim=1)\n",
    "#dists = dists.sum(dim=1).float() ** (1/2)\n",
    "\n",
    "print(dists[mal_y == 1])\n",
    "print(dists.topk(100))"
   ]
  }
 ],
 "metadata": {
  "kernelspec": {
   "display_name": "contagion",
   "language": "python",
   "name": "python3"
  },
  "language_info": {
   "codemirror_mode": {
    "name": "ipython",
    "version": 3
   },
   "file_extension": ".py",
   "mimetype": "text/x-python",
   "name": "python",
   "nbconvert_exporter": "python",
   "pygments_lexer": "ipython3",
   "version": "3.10.9"
  },
  "orig_nbformat": 4
 },
 "nbformat": 4,
 "nbformat_minor": 2
}
